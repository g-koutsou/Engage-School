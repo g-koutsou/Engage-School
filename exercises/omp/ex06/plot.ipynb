{
 "cells": [
  {
   "cell_type": "code",
   "execution_count": 1,
   "id": "eebd13f4-ee83-4989-adc5-eacff28340c6",
   "metadata": {
    "collapsed": false
   },
   "outputs": [],
   "source": [
    "%matplotlib inline\n",
    "from matplotlib import pyplot as plt\n",
    "import matplotlib as mpl\n",
    "import numpy as np"
   ]
  },
  {
   "cell_type": "code",
   "execution_count": 4,
   "id": "36562a73-3482-4980-9cb5-730643cea84e",
   "metadata": {
    "collapsed": false
   },
   "outputs": [],
   "source": [
    "axpy = np.loadtxt(\"axpy.txt\", usecols=(2, 18))\n",
    "xdoty = np.loadtxt(\"xdoty.txt\", usecols=(2, 17))"
   ]
  },
  {
   "cell_type": "code",
   "execution_count": 21,
   "id": "a53437b7-172b-4558-aa94-75c25da2ad24",
   "metadata": {
    "collapsed": false
   },
   "outputs": [
    {
     "data": {
      "text/plain": [
       "Text(0, 0.5, '$P$ [Gflop/s]')"
      ]
     },
     "execution_count": 21,
     "metadata": {},
     "output_type": "execute_result"
    },
    {
     "data": {
      "image/png": "[encoded data removed]",
      "text/plain": [
       "<Figure size 288x288 with 1 Axes>"
      ]
     },
     "metadata": {
      "needs_background": "light"
     },
     "output_type": "display_data"
    }
   ],
   "source": [
    "fig = plt.figure(1, figsize=(4, 4))\n",
    "fig.clf()\n",
    "ax = fig.add_axes([0.1, 0.1, 0.8, 0.8])\n",
    "x,y = axpy.T\n",
    "ax.plot(x, y, marker=\"o\", ls=\"\", label=\"axpy\")\n",
    "x,y = xdoty.T\n",
    "ax.plot(x, y, marker=\"s\", ls=\"\", label=\"xdoty\")\n",
    "ax.set_ylim(0, 4)\n",
    "ax.set_xlim(0)\n",
    "ax.set_xticks(range(17))\n",
    "ax.legend(loc=\"lower right\", frameon=False)\n",
    "ax.set_xlabel(\"$n_{OMP}$\")\n",
    "ax.set_ylabel(\"$P$ [Gflop/s]\")"
   ]
  },
  {
   "cell_type": "code",
   "execution_count": 22,
   "id": "3cf720cd-0ba6-4540-be32-b98a7c3a0ab1",
   "metadata": {
    "collapsed": false
   },
   "outputs": [],
   "source": [
    "fig.patch.set_facecolor(None)\n",
    "fig.patch.set_alpha(0)\n",
    "fig.savefig(\"linalg.png\", bbox_inches='tight',\n",
    "            facecolor=fig.get_facecolor(), dpi=400)"
   ]
  }
 ],
 "metadata": {
  "kernelspec": {
   "argv": [
    "python",
    "-m",
    "ipykernel_launcher",
    "-f",
    "{connection_file}"
   ],
   "display_name": "Python 3 (ipykernel)",
   "env": null,
   "interrupt_mode": "signal",
   "language": "python",
   "metadata": {
    "debugger": true
   },
   "name": "python3"
  },
  "name": "Untitled.ipynb"
 },
 "nbformat": 4,
 "nbformat_minor": 5
}
